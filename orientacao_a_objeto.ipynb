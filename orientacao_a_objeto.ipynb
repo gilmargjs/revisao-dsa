{
  "nbformat": 4,
  "nbformat_minor": 0,
  "metadata": {
    "colab": {
      "provenance": [],
      "collapsed_sections": [
        "AdSUI5EfVnOU",
        "os3y378AW7A1"
      ],
      "authorship_tag": "ABX9TyOjc26tZTA/4oDuC3/m8XGM",
      "include_colab_link": true
    },
    "kernelspec": {
      "name": "python3",
      "display_name": "Python 3"
    },
    "language_info": {
      "name": "python"
    }
  },
  "cells": [
    {
      "cell_type": "markdown",
      "metadata": {
        "id": "view-in-github",
        "colab_type": "text"
      },
      "source": [
        "<a href=\"https://colab.research.google.com/github/gilmargjs/revisao-dsa/blob/main/orientacao_a_objeto.ipynb\" target=\"_parent\"><img src=\"https://colab.research.google.com/assets/colab-badge.svg\" alt=\"Open In Colab\"/></a>"
      ]
    },
    {
      "cell_type": "markdown",
      "source": [
        "# Orientação em Objeto "
      ],
      "metadata": {
        "id": "AdSUI5EfVnOU"
      }
    },
    {
      "cell_type": "code",
      "source": [
        " class Livro():\n",
        "\n",
        "    def __init__(self):\n",
        "         self.titulo = 'O peregrino'\n",
        "         self.paginas = 162\n",
        "         print(\"Construtor chamado para criar um objeto desta classe\")\n",
        "\n",
        "    \n",
        "    def imprime(self):\n",
        "        print(\"foi criado o livro %s paginas %d\" %(self.titulo, self.paginas))\n",
        "\n",
        "        \n"
      ],
      "metadata": {
        "id": "KhQQqxSiVWh0"
      },
      "execution_count": null,
      "outputs": []
    },
    {
      "cell_type": "code",
      "source": [
        "Livro1 = Livro()"
      ],
      "metadata": {
        "colab": {
          "base_uri": "https://localhost:8080/"
        },
        "id": "MkodN0KuVwgG",
        "outputId": "a8b0c29c-48bb-4b81-85e3-790604c32a44"
      },
      "execution_count": null,
      "outputs": [
        {
          "output_type": "stream",
          "name": "stdout",
          "text": [
            "Construtor chamado para criar um objeto desta classe\n"
          ]
        }
      ]
    },
    {
      "cell_type": "code",
      "source": [
        "Livro1.paginas\n"
      ],
      "metadata": {
        "colab": {
          "base_uri": "https://localhost:8080/"
        },
        "id": "ZxoxPZUFV2A5",
        "outputId": "64c8fe0a-10dd-42dd-f2da-df256d2ef8a7"
      },
      "execution_count": null,
      "outputs": [
        {
          "output_type": "execute_result",
          "data": {
            "text/plain": [
              "162"
            ]
          },
          "metadata": {},
          "execution_count": 18
        }
      ]
    },
    {
      "cell_type": "code",
      "source": [
        "Livro1.imprime()"
      ],
      "metadata": {
        "colab": {
          "base_uri": "https://localhost:8080/"
        },
        "id": "1Ohox0z5V6pX",
        "outputId": "669eabc4-8c99-4d7d-c86d-c878a133d8ed"
      },
      "execution_count": null,
      "outputs": [
        {
          "output_type": "stream",
          "name": "stdout",
          "text": [
            "foi criado o livro O peregrino paginas 162\n"
          ]
        }
      ]
    },
    {
      "cell_type": "code",
      "source": [
        "type(Livro1)"
      ],
      "metadata": {
        "colab": {
          "base_uri": "https://localhost:8080/"
        },
        "id": "H0bRuWHuV7_Q",
        "outputId": "6c54755e-cad7-4160-a64d-e6095a800187"
      },
      "execution_count": null,
      "outputs": [
        {
          "output_type": "execute_result",
          "data": {
            "text/plain": [
              "__main__.Livro"
            ]
          },
          "metadata": {},
          "execution_count": 20
        }
      ]
    },
    {
      "cell_type": "code",
      "source": [
        "class Livro():\n",
        "    def __init__(self, titulo, isbn):\n",
        "       self.titulo = titulo\n",
        "       self.isbn = isbn\n",
        "       print(\"Construtor chamado para criar um objeto desta  classe\")\n",
        "\n",
        "    def imprime(self, titulo, isbn):\n",
        "        print(\"Este é o livro %s e ISBN %d\" %(titulo, isbn))\n"
      ],
      "metadata": {
        "id": "JW5crRhjV_Bf"
      },
      "execution_count": null,
      "outputs": []
    },
    {
      "cell_type": "code",
      "source": [
        "Livro2 = Livro(\"a Montanha Azul\", 7788992534)\n",
        "Livro3 = Livro(\"O peregrino\", 129658)\n",
        "Livro4 = Livro(\"spurgeon conselhos\", 4568970)"
      ],
      "metadata": {
        "colab": {
          "base_uri": "https://localhost:8080/"
        },
        "id": "nBlzpN9sWCKv",
        "outputId": "39767a72-db90-4a57-e9c3-2357d64870cd"
      },
      "execution_count": null,
      "outputs": [
        {
          "output_type": "stream",
          "name": "stdout",
          "text": [
            "Construtor chamado para criar um objeto desta  classe\n",
            "Construtor chamado para criar um objeto desta  classe\n",
            "Construtor chamado para criar um objeto desta  classe\n"
          ]
        }
      ]
    },
    {
      "cell_type": "code",
      "source": [
        "Livro2.titulo"
      ],
      "metadata": {
        "colab": {
          "base_uri": "https://localhost:8080/",
          "height": 35
        },
        "id": "ya_1zS3eWF9Q",
        "outputId": "7965dd3a-5efe-4c1b-d887-44cb774f39cf"
      },
      "execution_count": null,
      "outputs": [
        {
          "output_type": "execute_result",
          "data": {
            "text/plain": [
              "'a Montanha Azul'"
            ],
            "application/vnd.google.colaboratory.intrinsic+json": {
              "type": "string"
            }
          },
          "metadata": {},
          "execution_count": 23
        }
      ]
    },
    {
      "cell_type": "code",
      "source": [
        "Livro3.titulo\n"
      ],
      "metadata": {
        "colab": {
          "base_uri": "https://localhost:8080/",
          "height": 35
        },
        "id": "SK5jfFIBWH-p",
        "outputId": "ef1697be-2ff1-4a5e-cd2e-31bbc9898766"
      },
      "execution_count": null,
      "outputs": [
        {
          "output_type": "execute_result",
          "data": {
            "text/plain": [
              "'O peregrino'"
            ],
            "application/vnd.google.colaboratory.intrinsic+json": {
              "type": "string"
            }
          },
          "metadata": {},
          "execution_count": 24
        }
      ]
    },
    {
      "cell_type": "code",
      "source": [
        "Livro4.titulo\n"
      ],
      "metadata": {
        "colab": {
          "base_uri": "https://localhost:8080/",
          "height": 35
        },
        "id": "9nNhfbhCWKHY",
        "outputId": "b39ec87a-be42-497f-9a0d-a7f9097456a6"
      },
      "execution_count": null,
      "outputs": [
        {
          "output_type": "execute_result",
          "data": {
            "text/plain": [
              "'spurgeon conselhos'"
            ],
            "application/vnd.google.colaboratory.intrinsic+json": {
              "type": "string"
            }
          },
          "metadata": {},
          "execution_count": 25
        }
      ]
    },
    {
      "cell_type": "code",
      "source": [
        "class Animais():\n",
        "    def __init__(self, nome, raca, cor, numero):\n",
        "        self.nome = nome\n",
        "        self.raca = raca\n",
        "        self.cor = cor\n",
        "        self.numero = numero\n",
        "        print('Objeto Construtor Criado')\n",
        "\n",
        "    def imprime(self, nome, raca, cor, numero):\n",
        "        print(\"Este Animal é %s da raca %s e cor %s com numero %d\" %(nome, raca, cor, numero))"
      ],
      "metadata": {
        "id": "jfej-wbjWNJ3"
      },
      "execution_count": null,
      "outputs": []
    },
    {
      "cell_type": "code",
      "source": [
        "cachorro = Animais(\"tody\", \"labrador\",\"branca\", 1)"
      ],
      "metadata": {
        "colab": {
          "base_uri": "https://localhost:8080/"
        },
        "id": "9aJPRe1mWTRv",
        "outputId": "12cf2a90-7558-46f1-99f7-a788e0a16127"
      },
      "execution_count": null,
      "outputs": [
        {
          "output_type": "stream",
          "name": "stdout",
          "text": [
            "Objeto Construtor Criado\n"
          ]
        }
      ]
    },
    {
      "cell_type": "code",
      "source": [
        "gato = Animais(\"minino\", \"siames\",\"sinza\", 2)\n",
        "coelho = Animais(\"RABIT\", \"lebre\", \"azul\", 3)\n",
        "ramister = Animais(\"nino\",\"natural\",'misto',4)"
      ],
      "metadata": {
        "colab": {
          "base_uri": "https://localhost:8080/"
        },
        "id": "_5xi8Gk1WV4n",
        "outputId": "69b52476-314d-441d-83e4-14b27948cfd8"
      },
      "execution_count": null,
      "outputs": [
        {
          "output_type": "stream",
          "name": "stdout",
          "text": [
            "Objeto Construtor Criado\n",
            "Objeto Construtor Criado\n",
            "Objeto Construtor Criado\n"
          ]
        }
      ]
    },
    {
      "cell_type": "code",
      "source": [
        "#convertendo o para minusculo\n",
        "print(coelho.nome.lower())\n",
        "print(ramister.cor)"
      ],
      "metadata": {
        "colab": {
          "base_uri": "https://localhost:8080/"
        },
        "id": "GhEYELTGWYUn",
        "outputId": "c85e8579-536f-468c-86ab-1b79175b56c8"
      },
      "execution_count": null,
      "outputs": [
        {
          "output_type": "stream",
          "name": "stdout",
          "text": [
            "rabit\n",
            "misto\n"
          ]
        }
      ]
    },
    {
      "cell_type": "code",
      "source": [],
      "metadata": {
        "id": "XVjgi2hAW5Cd"
      },
      "execution_count": null,
      "outputs": []
    },
    {
      "cell_type": "code",
      "source": [],
      "metadata": {
        "id": "Qhw_BhSAXEVG"
      },
      "execution_count": null,
      "outputs": []
    },
    {
      "cell_type": "markdown",
      "source": [
        "# Objeto"
      ],
      "metadata": {
        "id": "os3y378AW7A1"
      }
    },
    {
      "cell_type": "code",
      "source": [
        "#criando uma lista\n",
        "lst_num = [\"Data\", \"Science\", \"Academy\", \"Nota\", 10, 10]"
      ],
      "metadata": {
        "id": "gyvfGr-FXHDF"
      },
      "execution_count": null,
      "outputs": []
    },
    {
      "cell_type": "code",
      "source": [
        "type(lst_num)"
      ],
      "metadata": {
        "colab": {
          "base_uri": "https://localhost:8080/"
        },
        "id": "rXG5C7QiXS0t",
        "outputId": "23deee02-84b6-479b-e796-6a6ca6cdb566"
      },
      "execution_count": null,
      "outputs": [
        {
          "output_type": "execute_result",
          "data": {
            "text/plain": [
              "list"
            ]
          },
          "metadata": {},
          "execution_count": 31
        }
      ]
    },
    {
      "cell_type": "code",
      "source": [
        "lst_num.count(10)"
      ],
      "metadata": {
        "colab": {
          "base_uri": "https://localhost:8080/"
        },
        "id": "_sE_NGE0XVss",
        "outputId": "df84ca60-e209-4eec-b5bc-1f83913e92d4"
      },
      "execution_count": null,
      "outputs": [
        {
          "output_type": "execute_result",
          "data": {
            "text/plain": [
              "2"
            ]
          },
          "metadata": {},
          "execution_count": 32
        }
      ]
    },
    {
      "cell_type": "code",
      "source": [
        "#Usamos a função type, para verificar o tipo de um objeto\n",
        "print(type(10))\n",
        "print(type([]))\n",
        "print(type(()))\n",
        "print(type({}))\n",
        "print(type('a'))"
      ],
      "metadata": {
        "colab": {
          "base_uri": "https://localhost:8080/"
        },
        "id": "U46EdoURXX8l",
        "outputId": "e3bca7d6-6b5c-4463-ae77-d20b83627078"
      },
      "execution_count": null,
      "outputs": [
        {
          "output_type": "stream",
          "name": "stdout",
          "text": [
            "<class 'int'>\n",
            "<class 'list'>\n",
            "<class 'tuple'>\n",
            "<class 'dict'>\n",
            "<class 'str'>\n"
          ]
        }
      ]
    },
    {
      "cell_type": "code",
      "source": [
        "#criando um novo tipo de objeto chamado Carro\n",
        "class Carro(object):\n",
        "    pass\n",
        "\n",
        "#instancia do carro\n",
        "palio = Carro()\n",
        "\n",
        "print(type(palio))"
      ],
      "metadata": {
        "colab": {
          "base_uri": "https://localhost:8080/"
        },
        "id": "sDMXY_kTXais",
        "outputId": "377db899-1134-4919-809a-cc2fd4609992"
      },
      "execution_count": null,
      "outputs": [
        {
          "output_type": "stream",
          "name": "stdout",
          "text": [
            "<class '__main__.Carro'>\n"
          ]
        }
      ]
    },
    {
      "cell_type": "code",
      "source": [
        "#Criando uma classe\n",
        "class Estudantes:\n",
        "    def __init__(self, nome, idade, nota):\n",
        "        self.nome = nome\n",
        "        self.idade = idade\n",
        "        self.nota = nota"
      ],
      "metadata": {
        "id": "CMp2WPzEXeZ8"
      },
      "execution_count": null,
      "outputs": []
    },
    {
      "cell_type": "code",
      "source": [
        "#Criando um objeto chamado Estudante1 a partir da classe Estudantes \n",
        "Estudante1 = Estudantes('Gilmar', 42, 9.5)\n",
        "Estudante2 = Estudantes('Jonas', 12, 7.6)\n",
        "Estudante3 = Estudantes('Jefferson', 17, 8.6)\n",
        "Estudante4 = Estudantes('Jois', 12, 9.6)"
      ],
      "metadata": {
        "id": "bKKBNELkXhG8"
      },
      "execution_count": null,
      "outputs": []
    },
    {
      "cell_type": "code",
      "source": [
        "#verificando os objetos\n",
        "print('-'*30)\n",
        "print(Estudante1.nome)\n",
        "print(Estudante1.idade)\n",
        "print('-'*30)\n",
        "print(Estudante2.nome)\n",
        "print(Estudante2.idade)\n",
        "print('-'*30)\n",
        "print(Estudante3.nome)\n",
        "print(Estudante3.nota)\n",
        "print('-'*30)\n",
        "print(Estudante4.nome)\n",
        "print(Estudante4.nota)\n",
        "print('-'*30)\n"
      ],
      "metadata": {
        "colab": {
          "base_uri": "https://localhost:8080/"
        },
        "id": "4evPFa9eXjq8",
        "outputId": "0f7cb804-291f-40cb-e613-30f022818414"
      },
      "execution_count": null,
      "outputs": [
        {
          "output_type": "stream",
          "name": "stdout",
          "text": [
            "------------------------------\n",
            "Gilmar\n",
            "42\n",
            "------------------------------\n",
            "Jonas\n",
            "12\n",
            "------------------------------\n",
            "Jefferson\n",
            "8.6\n",
            "------------------------------\n",
            "Jois\n",
            "9.6\n",
            "------------------------------\n"
          ]
        }
      ]
    },
    {
      "cell_type": "code",
      "source": [
        "#Criando uma classe\n",
        "class Funcionarios:\n",
        "    def __init__(self, nome, salario):\n",
        "        self.nome = nome\n",
        "        self.salario = salario\n",
        "\n",
        "    def listFunc(self):\n",
        "        print(f'O nome do funcionário é  {self.nome} O salario do funcionário é R$ {str(self.salario)}') "
      ],
      "metadata": {
        "id": "9b_4k6dtXnVU"
      },
      "execution_count": null,
      "outputs": []
    },
    {
      "cell_type": "code",
      "source": [
        "#Criando um objeto chamado Func1 a partir da classe Funcionarios\n",
        "Func1 = Funcionarios(\"Malaquias\", 2000) "
      ],
      "metadata": {
        "id": "8-PPxbpHXqo1"
      },
      "execution_count": null,
      "outputs": []
    },
    {
      "cell_type": "code",
      "source": [
        "#Usando o Método da Classe\n",
        "print('-'*69)\n",
        "Func1.listFunc()\n",
        "print('-'*69)\n"
      ],
      "metadata": {
        "colab": {
          "base_uri": "https://localhost:8080/"
        },
        "id": "3VaYEx2tXs1u",
        "outputId": "ca417dda-89ea-41ad-f068-e2b63268201d"
      },
      "execution_count": null,
      "outputs": [
        {
          "output_type": "stream",
          "name": "stdout",
          "text": [
            "---------------------------------------------------------------------\n",
            "O nome do funcionário é  Malaquias O salario do funcionário é R$ 2000\n",
            "---------------------------------------------------------------------\n"
          ]
        }
      ]
    },
    {
      "cell_type": "code",
      "source": [
        "#usando atributos\n",
        "print('-'*30)\n",
        "print('tem o atributo nome?')\n",
        "print(hasattr(Func1, \"nome\"))\n",
        "print('-'*30)\n",
        "print('tem o atributo salário?')\n",
        "print(hasattr(Func1, \"salario\"))\n",
        "print('-'*30)\n",
        "print('colocar um novo valor do salário')\n",
        "setattr(Func1, \"salario\", 4500)\n",
        "print('-'*30)\n",
        "print('tem o tributo salário?')\n",
        "print(hasattr(Func1, \"salario\"))\n",
        "print('-'*30)\n",
        "print('Mostrar salário')\n",
        "print(getattr(Func1, \"salario\"))\n",
        "print('-'*30)\n",
        "print('deletar salário')\n",
        "delattr(Func1, \"salario\")\n",
        "print('-'*30)\n",
        "print('tem o atributo salário?')\n",
        "print(hasattr(Func1, \"salario\"))\n",
        "print('-'*30)\n"
      ],
      "metadata": {
        "colab": {
          "base_uri": "https://localhost:8080/"
        },
        "id": "m1vlQ3QMXvPM",
        "outputId": "2fa005ee-f776-4be4-935a-be6eea4ff37f"
      },
      "execution_count": null,
      "outputs": [
        {
          "output_type": "stream",
          "name": "stdout",
          "text": [
            "------------------------------\n",
            "tem o atributo nome?\n",
            "True\n",
            "------------------------------\n",
            "tem o atributo salário?\n",
            "True\n",
            "------------------------------\n",
            "colocar um novo valor do salário\n",
            "------------------------------\n",
            "tem o tributo salário?\n",
            "True\n",
            "------------------------------\n",
            "Mostrar salário\n",
            "4500\n",
            "------------------------------\n",
            "deletar salário\n",
            "------------------------------\n",
            "tem o atributo salário?\n",
            "False\n",
            "------------------------------\n"
          ]
        }
      ]
    },
    {
      "cell_type": "markdown",
      "source": [
        "# Herança"
      ],
      "metadata": {
        "id": "8HeT3BFc7oP7"
      }
    },
    {
      "cell_type": "code",
      "execution_count": 1,
      "metadata": {
        "id": "ZJD2kURs7hzs"
      },
      "outputs": [],
      "source": [
        "#criando a classe animal - super-classe\n",
        "\n",
        "class Animal():\n",
        "    \n",
        "    def __init__(self):\n",
        "        print(\"Animal Criado\")\n",
        "\n",
        "    def Identif(self):\n",
        "        print(\"Animal\")\n",
        "\n",
        "    def comer(self):\n",
        "        print(\"Comendo\")"
      ]
    },
    {
      "cell_type": "code",
      "source": [],
      "metadata": {
        "id": "lu4HCQFoVJLL"
      },
      "execution_count": null,
      "outputs": []
    },
    {
      "cell_type": "code",
      "source": [
        "#Criando a classe Cachorro - sub-classe\n",
        "class Cachorro(Animal):\n",
        "    \n",
        "    def __init__(self):\n",
        "        Animal.__init__(self)\n",
        "        print(\"Objeto Cachorro Criado\")\n",
        "\n",
        "    def Identif(self):\n",
        "        print(\"Cachorro\")\n",
        "\n",
        "    def Latir(self):\n",
        "        print(\"Au Au!\")"
      ],
      "metadata": {
        "id": "WHu82oMzOv0y"
      },
      "execution_count": null,
      "outputs": []
    },
    {
      "cell_type": "code",
      "source": [
        "#criando um objeto (instanciado a classe)\n",
        "rex = Cachorro()"
      ],
      "metadata": {
        "colab": {
          "base_uri": "https://localhost:8080/"
        },
        "id": "JVAOmwuWRBbs",
        "outputId": "578e275b-abeb-43ac-9dfc-02805b764f54"
      },
      "execution_count": null,
      "outputs": [
        {
          "output_type": "stream",
          "name": "stdout",
          "text": [
            "Animal Criado\n",
            "Objeto Cachorro Criado\n"
          ]
        }
      ]
    },
    {
      "cell_type": "code",
      "source": [
        "#Executando o método da classe Cachorro(sub-classee)\n",
        "rex.Identif()"
      ],
      "metadata": {
        "colab": {
          "base_uri": "https://localhost:8080/"
        },
        "id": "GBbjT__SR18C",
        "outputId": "c0bd7f07-3f19-4ab6-92df-89b5e264079b"
      },
      "execution_count": null,
      "outputs": [
        {
          "output_type": "stream",
          "name": "stdout",
          "text": [
            "Cachorro\n"
          ]
        }
      ]
    },
    {
      "cell_type": "code",
      "source": [
        "#Executando o método da classe Animal (super-classe)\n",
        "rex.comer()"
      ],
      "metadata": {
        "colab": {
          "base_uri": "https://localhost:8080/"
        },
        "id": "BFX5GbOPTPyH",
        "outputId": "37dddd19-f850-46c4-e3ac-e10c3d3e9ead"
      },
      "execution_count": null,
      "outputs": [
        {
          "output_type": "stream",
          "name": "stdout",
          "text": [
            "Comendo\n"
          ]
        }
      ]
    },
    {
      "cell_type": "code",
      "source": [
        "#Executando o método da classe Cachorro (sub-classe)\n",
        "rex.Latir()"
      ],
      "metadata": {
        "colab": {
          "base_uri": "https://localhost:8080/"
        },
        "id": "mfpgCV4eThXO",
        "outputId": "12aefa73-826e-43cb-ccc4-1c449b4fb208"
      },
      "execution_count": null,
      "outputs": [
        {
          "output_type": "stream",
          "name": "stdout",
          "text": [
            "Au Au!\n"
          ]
        }
      ]
    },
    {
      "cell_type": "code",
      "source": [],
      "metadata": {
        "id": "W9MeeSjfUOmo"
      },
      "execution_count": null,
      "outputs": []
    },
    {
      "cell_type": "markdown",
      "source": [],
      "metadata": {
        "id": "yo2gPM2KUmts"
      }
    },
    {
      "cell_type": "code",
      "source": [],
      "metadata": {
        "id": "J0bKdHOUWqqu"
      },
      "execution_count": null,
      "outputs": []
    },
    {
      "cell_type": "code",
      "source": [],
      "metadata": {
        "id": "3RQbYIgiYyYh"
      },
      "execution_count": null,
      "outputs": []
    },
    {
      "cell_type": "markdown",
      "source": [
        "# Métodos Especiais"
      ],
      "metadata": {
        "id": "UF9T6U8KY6Sw"
      }
    },
    {
      "cell_type": "code",
      "source": [
        "#criando a classe Livro\n",
        "class Livro():\n",
        "    def __init__(self, titulo, autor, paginas):\n",
        "        print(\"Livro criado\")\n",
        "        self.titulo = titulo\n",
        "        self.autor = autor\n",
        "        self.paginas = paginas \n",
        "\n",
        "    def __str__(self):\n",
        "        return \"Titulo %s , autor: %s, páginas: %s \"\\\n",
        "        %(self.titulo, self.autor, self.paginas)\n",
        "\n",
        "    def __len__(self):\n",
        "        return self.paginas\n",
        "\n",
        "    def len(self):\n",
        "        return print(\"Páginas do Livro com método comum\", self.paginas)\n"
      ],
      "metadata": {
        "id": "4SJNPifQZBrS"
      },
      "execution_count": null,
      "outputs": []
    },
    {
      "cell_type": "code",
      "source": [
        "livro1 = Livro(\"Os Lusíadas\", \"Luiz de Camões\", 8816)"
      ],
      "metadata": {
        "colab": {
          "base_uri": "https://localhost:8080/"
        },
        "id": "CyoeAQygsulF",
        "outputId": "0c0439d3-d7d8-4a1e-8b45-0b5c8d9c9a1f"
      },
      "execution_count": null,
      "outputs": [
        {
          "output_type": "stream",
          "name": "stdout",
          "text": [
            "Livro criado\n"
          ]
        }
      ]
    },
    {
      "cell_type": "code",
      "source": [
        "#Métodos especiais\n",
        "print('-'*30)\n",
        "print(livro1)"
      ],
      "metadata": {
        "colab": {
          "base_uri": "https://localhost:8080/"
        },
        "id": "qNWeaxQKtJxz",
        "outputId": "89351442-370c-4a88-9320-113ddef830df"
      },
      "execution_count": null,
      "outputs": [
        {
          "output_type": "stream",
          "name": "stdout",
          "text": [
            "------------------------------\n",
            "Titulo Os Lusíadas , autor: Luiz de Camões, páginas: 8816 \n"
          ]
        }
      ]
    },
    {
      "cell_type": "code",
      "source": [
        "print('-'*30)\n",
        "str(livro1)"
      ],
      "metadata": {
        "colab": {
          "base_uri": "https://localhost:8080/",
          "height": 53
        },
        "id": "OhgNwsFwtSDT",
        "outputId": "0f95f453-8938-4137-af73-6a9dbdd63544"
      },
      "execution_count": null,
      "outputs": [
        {
          "output_type": "stream",
          "name": "stdout",
          "text": [
            "------------------------------\n"
          ]
        },
        {
          "output_type": "execute_result",
          "data": {
            "text/plain": [
              "'Titulo Os Lusíadas , autor: Luiz de Camões, páginas: 8816 '"
            ],
            "application/vnd.google.colaboratory.intrinsic+json": {
              "type": "string"
            }
          },
          "metadata": {},
          "execution_count": 20
        }
      ]
    },
    {
      "cell_type": "code",
      "source": [
        "print('-'*30)\n",
        "len(livro1)"
      ],
      "metadata": {
        "colab": {
          "base_uri": "https://localhost:8080/"
        },
        "id": "9C6zAW4YvJf1",
        "outputId": "1e8e709a-5f9e-46ff-b366-65dc9c21f5dc"
      },
      "execution_count": null,
      "outputs": [
        {
          "output_type": "stream",
          "name": "stdout",
          "text": [
            "------------------------------\n"
          ]
        },
        {
          "output_type": "execute_result",
          "data": {
            "text/plain": [
              "8816"
            ]
          },
          "metadata": {},
          "execution_count": 21
        }
      ]
    },
    {
      "cell_type": "code",
      "source": [
        "livro1.len()"
      ],
      "metadata": {
        "colab": {
          "base_uri": "https://localhost:8080/"
        },
        "id": "C0V7W8civtkf",
        "outputId": "41f6c455-685c-4cd1-bad6-b248cd33d68b"
      },
      "execution_count": null,
      "outputs": [
        {
          "output_type": "stream",
          "name": "stdout",
          "text": [
            "Páginas do Livro com método comum 8816\n"
          ]
        }
      ]
    },
    {
      "cell_type": "markdown",
      "source": [
        "# Exercícios cap05"
      ],
      "metadata": {
        "id": "MO2cvLNOxtwb"
      }
    },
    {
      "cell_type": "code",
      "source": [
        "# Exercício 1 - Crie um objeto a partir da classe abaixo, chamado roc1, passando 2 parâmetros e depois faça uma chamada\n",
        "# aos atributos e métodos\n",
        "from math import sqrt\n",
        "\n",
        "class Rocket():\n",
        "     \n",
        "    def __init__(self, x=0, y=0):\n",
        "        self.x = x\n",
        "        self.y = y\n",
        "        \n",
        "    def move_rocket(self, x_increment=0, y_increment=1):\n",
        "        self.x += x_increment\n",
        "        self.y += y_increment\n",
        "        \n",
        "    def print_rocket(self):\n",
        "        print(self.x, self.y)\n",
        "        \n"
      ],
      "metadata": {
        "id": "wdrsVrSixq2u"
      },
      "execution_count": null,
      "outputs": []
    },
    {
      "cell_type": "code",
      "source": [
        "roc1 = Rocket(10, 15)"
      ],
      "metadata": {
        "id": "JyMSBDgCypvd"
      },
      "execution_count": null,
      "outputs": []
    },
    {
      "cell_type": "code",
      "source": [
        "roc1.y"
      ],
      "metadata": {
        "colab": {
          "base_uri": "https://localhost:8080/"
        },
        "id": "kOKR3hCDy3L8",
        "outputId": "704f7f22-deb5-46c2-a11c-29b9fe98167f"
      },
      "execution_count": null,
      "outputs": [
        {
          "output_type": "execute_result",
          "data": {
            "text/plain": [
              "17"
            ]
          },
          "metadata": {},
          "execution_count": 31
        }
      ]
    },
    {
      "cell_type": "code",
      "source": [
        "roc1.print_rocket()"
      ],
      "metadata": {
        "colab": {
          "base_uri": "https://localhost:8080/"
        },
        "id": "Vvgvx5tIzFs8",
        "outputId": "0242cf00-70e2-4896-c890-f1de7096c01c"
      },
      "execution_count": null,
      "outputs": [
        {
          "output_type": "stream",
          "name": "stdout",
          "text": [
            "10 16\n"
          ]
        }
      ]
    },
    {
      "cell_type": "code",
      "source": [
        "# Exercício 2 - Crie uma classe chamada Pessoa() com os atributos: nome, cidade, telefone e e-mail. Use pelo menos 2\n",
        "# métodos especiais na sua classe. Crie um objeto da sua classe e faça uma chamada a pelo menos um dos seus métodos\n",
        "# especiais.\n",
        "class Pessoa():\n",
        "    def __init__(self, nome, cidade, telefone, email):\n",
        "        self.nome = nome\n",
        "        self.cidade = cidade\n",
        "        self.telefone = telefone\n",
        "        self.email = email\n",
        "\n",
        "    def __str__(self):\n",
        "        return \"Nome: %s, cidade: %s, telefone: %s, e-mail: %s \" %(self.nome, self.cidade, self.telefone, self.email)\n",
        "\n",
        "    def __len__(self):\n",
        "        return self.telefone\n"
      ],
      "metadata": {
        "id": "yD910vGFx4Q_"
      },
      "execution_count": null,
      "outputs": []
    },
    {
      "cell_type": "code",
      "source": [
        "joao = Pessoa(\"joão\", \"vitória de santo antão\", 8199663388, \"ggg@ftree.com\")"
      ],
      "metadata": {
        "id": "emlGXDtn4rk3"
      },
      "execution_count": null,
      "outputs": []
    },
    {
      "cell_type": "code",
      "source": [
        "joao.telefone"
      ],
      "metadata": {
        "colab": {
          "base_uri": "https://localhost:8080/"
        },
        "id": "xwsKK8tO5MAl",
        "outputId": "af19f71d-aadb-4f43-8214-1b75bf02d5f3"
      },
      "execution_count": null,
      "outputs": [
        {
          "output_type": "execute_result",
          "data": {
            "text/plain": [
              "8199663388"
            ]
          },
          "metadata": {},
          "execution_count": 62
        }
      ]
    },
    {
      "cell_type": "code",
      "source": [
        "str(joao)"
      ],
      "metadata": {
        "colab": {
          "base_uri": "https://localhost:8080/",
          "height": 36
        },
        "id": "uOI28glW5SHW",
        "outputId": "b8c00866-18a2-4570-cb45-bbf4297431d6"
      },
      "execution_count": null,
      "outputs": [
        {
          "output_type": "execute_result",
          "data": {
            "text/plain": [
              "'Nome: joão, cidade: vitória de santo antão, telefone: 8199663388, e-mail: ggg@ftree.com '"
            ],
            "application/vnd.google.colaboratory.intrinsic+json": {
              "type": "string"
            }
          },
          "metadata": {},
          "execution_count": 63
        }
      ]
    },
    {
      "cell_type": "code",
      "source": [
        "len(joao)"
      ],
      "metadata": {
        "colab": {
          "base_uri": "https://localhost:8080/"
        },
        "id": "DMrjKFJE5wjd",
        "outputId": "b35cef69-4008-42c0-88cc-a6218d0a0050"
      },
      "execution_count": null,
      "outputs": [
        {
          "output_type": "execute_result",
          "data": {
            "text/plain": [
              "8199663388"
            ]
          },
          "metadata": {},
          "execution_count": 64
        }
      ]
    },
    {
      "cell_type": "code",
      "source": [
        "# Exercício 3 - Crie a classe Smartphone com 2 atributos, tamanho e interface e crie a classe MP3Player com os \n",
        "# atributos capacidade. A classe MP3player deve herdar os atributos da classe Smartphone.\n",
        "\n",
        "class Smartphone():\n",
        "    def __init__(sel):\n",
        "        print(\"smartprone criada\")\n",
        "        \n",
        "    def Tamanho(self):\n",
        "        print(\"15/5\")\n",
        "\n",
        "    def intensidade(self):\n",
        "        print(\"volume maximo\")\n",
        "\n",
        "class MP3player(Smartphone):\n",
        "    def __init__(self):\n",
        "        print(\"mp3 criado\")\n"
      ],
      "metadata": {
        "id": "X9qRjYayx7zP"
      },
      "execution_count": 26,
      "outputs": []
    },
    {
      "cell_type": "code",
      "source": [
        "radio = Smartphone()"
      ],
      "metadata": {
        "colab": {
          "base_uri": "https://localhost:8080/"
        },
        "id": "xbqpFj8ccGUC",
        "outputId": "e2dd29c0-55a4-463d-af18-7b27ec211336"
      },
      "execution_count": 27,
      "outputs": [
        {
          "output_type": "stream",
          "name": "stdout",
          "text": [
            "smartprone criada\n"
          ]
        }
      ]
    },
    {
      "cell_type": "code",
      "source": [
        "radio.intensidade()"
      ],
      "metadata": {
        "colab": {
          "base_uri": "https://localhost:8080/"
        },
        "id": "htpbaC-ecYlJ",
        "outputId": "ac06f9c0-a87b-4662-b16a-6880d2a60f2c"
      },
      "execution_count": 28,
      "outputs": [
        {
          "output_type": "stream",
          "name": "stdout",
          "text": [
            "volume maximo\n"
          ]
        }
      ]
    },
    {
      "cell_type": "code",
      "source": [
        "radio.Tamanho()"
      ],
      "metadata": {
        "colab": {
          "base_uri": "https://localhost:8080/"
        },
        "id": "fJACa2dix_X6",
        "outputId": "8fc67976-6cd5-4dfc-bb1b-fba4e0b232e4"
      },
      "execution_count": 31,
      "outputs": [
        {
          "output_type": "stream",
          "name": "stdout",
          "text": [
            "15/5\n"
          ]
        }
      ]
    },
    {
      "cell_type": "code",
      "source": [],
      "metadata": {
        "id": "u7oTXZj_yNYC"
      },
      "execution_count": null,
      "outputs": []
    }
  ]
}