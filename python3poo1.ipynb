{
  "nbformat": 4,
  "nbformat_minor": 0,
  "metadata": {
    "colab": {
      "provenance": [],
      "collapsed_sections": [],
      "authorship_tag": "ABX9TyMGNe61ZzMO8wm8MIcZXK03",
      "include_colab_link": true
    },
    "kernelspec": {
      "name": "python3",
      "display_name": "Python 3"
    },
    "language_info": {
      "name": "python"
    }
  },
  "cells": [
    {
      "cell_type": "markdown",
      "metadata": {
        "id": "view-in-github",
        "colab_type": "text"
      },
      "source": [
        "<a href=\"https://colab.research.google.com/github/gilmargjs/revisao-dsa/blob/main/python3poo1.ipynb\" target=\"_parent\"><img src=\"https://colab.research.google.com/assets/colab-badge.svg\" alt=\"Open In Colab\"/></a>"
      ]
    },
    {
      "cell_type": "markdown",
      "source": [
        "\n",
        "\n",
        "## programação orientada a objeto\n",
        "\n",
        "\n"
      ],
      "metadata": {
        "id": "nSJM1eYSai5W"
      }
    },
    {
      "cell_type": "code",
      "source": [
        " class Livro():\n",
        "\n",
        "    def __init__(self):\n",
        "         self.titulo = 'O peregrino'\n",
        "         self.paginas = 162\n",
        "         print(\"Construtor chamado para criar um objeto desta classe\")\n",
        "\n",
        "    \n",
        "    def imprime(self):\n",
        "        print(\"foi criado o livro %s paginas %d\" %(self.titulo, self.paginas))\n"
      ],
      "metadata": {
        "id": "jKsPi424af_-"
      },
      "execution_count": 11,
      "outputs": []
    },
    {
      "cell_type": "code",
      "source": [],
      "metadata": {
        "id": "RMm_vg8jilt0"
      },
      "execution_count": null,
      "outputs": []
    },
    {
      "cell_type": "code",
      "source": [
        "Livro1 = Livro()"
      ],
      "metadata": {
        "colab": {
          "base_uri": "https://localhost:8080/"
        },
        "id": "GEIlV1L9bRrq",
        "outputId": "437d3610-6cea-4029-de21-562e119ee860"
      },
      "execution_count": 12,
      "outputs": [
        {
          "output_type": "stream",
          "name": "stdout",
          "text": [
            "Construtor chamado para criar um objeto desta classe\n"
          ]
        }
      ]
    },
    {
      "cell_type": "code",
      "source": [
        "Livro1.paginas\n",
        "\n"
      ],
      "metadata": {
        "colab": {
          "base_uri": "https://localhost:8080/"
        },
        "id": "IGxd2szqg3ay",
        "outputId": "d315a3f3-0c41-4195-ed85-e989a42e1617"
      },
      "execution_count": 13,
      "outputs": [
        {
          "output_type": "execute_result",
          "data": {
            "text/plain": [
              "162"
            ]
          },
          "metadata": {},
          "execution_count": 13
        }
      ]
    },
    {
      "cell_type": "code",
      "source": [
        "Livro1.imprime()"
      ],
      "metadata": {
        "colab": {
          "base_uri": "https://localhost:8080/"
        },
        "id": "HLcZaRI0iCKy",
        "outputId": "d877ee69-9771-4ea2-8ad0-3409a0c843b4"
      },
      "execution_count": 14,
      "outputs": [
        {
          "output_type": "stream",
          "name": "stdout",
          "text": [
            "foi criado o livro O peregrino paginas 162\n"
          ]
        }
      ]
    },
    {
      "cell_type": "code",
      "source": [
        "type(Livro1)"
      ],
      "metadata": {
        "colab": {
          "base_uri": "https://localhost:8080/"
        },
        "id": "NYWvBNFYixu7",
        "outputId": "a2ecd4bd-62f5-435c-bd34-ad4db968e93a"
      },
      "execution_count": 15,
      "outputs": [
        {
          "output_type": "execute_result",
          "data": {
            "text/plain": [
              "__main__.Livro"
            ]
          },
          "metadata": {},
          "execution_count": 15
        }
      ]
    },
    {
      "cell_type": "code",
      "source": [
        "class Livro():\n",
        "    def __init__(self, titulo, isbn):\n",
        "       self.titulo = titulo\n",
        "       self.isbn = isbn\n",
        "       print(\"Construtor chamado para criar um objeto desta  classe\")\n",
        "\n",
        "    def imprime(self, titulo, isbn):\n",
        "        print(\"Este é o livro %s e ISBN %d\" %(titulo, isbn))\n"
      ],
      "metadata": {
        "id": "BglrVTMFnZ-K"
      },
      "execution_count": 16,
      "outputs": []
    },
    {
      "cell_type": "code",
      "source": [
        "Livro2 = Livro(\"a Montanha Azul\", 7788992534)\n",
        "Livro3 = Livro(\"O peregrino\", 129658)\n",
        "Livro4 = Livro(\"spurgeon conselhos\", 4568970)"
      ],
      "metadata": {
        "colab": {
          "base_uri": "https://localhost:8080/"
        },
        "id": "ln850yQVokQY",
        "outputId": "b570ae1d-6baf-4657-d01a-7ffcacc9dd38"
      },
      "execution_count": 30,
      "outputs": [
        {
          "output_type": "stream",
          "name": "stdout",
          "text": [
            "Construtor chamado para criar um objeto desta  classe\n",
            "Construtor chamado para criar um objeto desta  classe\n",
            "Construtor chamado para criar um objeto desta  classe\n"
          ]
        }
      ]
    },
    {
      "cell_type": "code",
      "source": [
        "Livro2.titulo"
      ],
      "metadata": {
        "colab": {
          "base_uri": "https://localhost:8080/",
          "height": 35
        },
        "id": "BDGHO3Dno9q9",
        "outputId": "49b61ec3-c5d5-4235-91a0-df352a9a4bd4"
      },
      "execution_count": 32,
      "outputs": [
        {
          "output_type": "execute_result",
          "data": {
            "text/plain": [
              "'a Montanha Azul'"
            ],
            "application/vnd.google.colaboratory.intrinsic+json": {
              "type": "string"
            }
          },
          "metadata": {},
          "execution_count": 32
        }
      ]
    },
    {
      "cell_type": "code",
      "source": [
        "Livro3.titulo\n"
      ],
      "metadata": {
        "colab": {
          "base_uri": "https://localhost:8080/",
          "height": 35
        },
        "id": "V5y5vvgZqIHO",
        "outputId": "fed3a81b-3553-417b-cde5-7f04718c2885"
      },
      "execution_count": 33,
      "outputs": [
        {
          "output_type": "execute_result",
          "data": {
            "text/plain": [
              "'O peregrino'"
            ],
            "application/vnd.google.colaboratory.intrinsic+json": {
              "type": "string"
            }
          },
          "metadata": {},
          "execution_count": 33
        }
      ]
    },
    {
      "cell_type": "code",
      "source": [
        "Livro4.titulo\n"
      ],
      "metadata": {
        "colab": {
          "base_uri": "https://localhost:8080/",
          "height": 35
        },
        "id": "tGclK0v4qbZ7",
        "outputId": "9ecf88de-aed7-45a8-ae52-7ba83dfaa96c"
      },
      "execution_count": 34,
      "outputs": [
        {
          "output_type": "execute_result",
          "data": {
            "text/plain": [
              "'spurgeon conselhos'"
            ],
            "application/vnd.google.colaboratory.intrinsic+json": {
              "type": "string"
            }
          },
          "metadata": {},
          "execution_count": 34
        }
      ]
    },
    {
      "cell_type": "code",
      "source": [
        "class Animais():\n",
        "    def __init__(self, nome, raca, cor, numero):\n",
        "        self.nome = nome\n",
        "        self.raca = raca\n",
        "        self.cor = cor\n",
        "        self.numero = numero\n",
        "        print('Objeto Construtor Criado')\n",
        "\n",
        "    def imprime(self, nome, raca, cor, numero):\n",
        "        print(\"Este Animal é %s da raca %s e cor %s com numero %d\" %(nome, raca, cor, numero))"
      ],
      "metadata": {
        "id": "ahN6emstrMxC"
      },
      "execution_count": 41,
      "outputs": []
    },
    {
      "cell_type": "code",
      "source": [
        "cachorro = Animais(\"tody\", \"labrador\",\"branca\", 1)"
      ],
      "metadata": {
        "colab": {
          "base_uri": "https://localhost:8080/"
        },
        "id": "MMDv-ARLrwzJ",
        "outputId": "248df152-eba9-409e-d990-8887d54486c8"
      },
      "execution_count": 45,
      "outputs": [
        {
          "output_type": "stream",
          "name": "stdout",
          "text": [
            "Objeto Construtor Criado\n"
          ]
        }
      ]
    },
    {
      "cell_type": "code",
      "source": [
        "gato = Animais(\"minino\", \"siames\",\"sinza\", 2)\n",
        "coelho = Animais(\"RABIT\", \"lebre\", \"azul\", 3)"
      ],
      "metadata": {
        "colab": {
          "base_uri": "https://localhost:8080/"
        },
        "id": "QQ0X0V1VsF2a",
        "outputId": "ba036aa2-f18d-4fb1-cc19-331166f3b8e3"
      },
      "execution_count": 46,
      "outputs": [
        {
          "output_type": "stream",
          "name": "stdout",
          "text": [
            "Objeto Construtor Criado\n",
            "Objeto Construtor Criado\n"
          ]
        }
      ]
    },
    {
      "cell_type": "code",
      "source": [
        "coelho.nome"
      ],
      "metadata": {
        "colab": {
          "base_uri": "https://localhost:8080/",
          "height": 35
        },
        "id": "4z1KapoYuiPz",
        "outputId": "536d35ad-2565-4303-d3da-ae128add5a41"
      },
      "execution_count": 50,
      "outputs": [
        {
          "output_type": "execute_result",
          "data": {
            "text/plain": [
              "'RABIT'"
            ],
            "application/vnd.google.colaboratory.intrinsic+json": {
              "type": "string"
            }
          },
          "metadata": {},
          "execution_count": 50
        }
      ]
    }
  ]
}